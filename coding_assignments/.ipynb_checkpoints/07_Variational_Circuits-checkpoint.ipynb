{
 "cells": [
  {
   "cell_type": "markdown",
   "metadata": {},
   "source": [
    "Before you begin, execute this cell to import numpy and packages from the D-Wave Ocean suite, and all necessary functions for the gate-model framework you are going to use, whether that is the Forest SDK or Qiskit. In the case of Forest SDK, it also starts the qvm and quilc servers."
   ]
  },
  {
   "cell_type": "code",
   "execution_count": 2,
   "metadata": {
    "ExecuteTime": {
     "end_time": "2019-01-30T17:28:53.754490Z",
     "start_time": "2019-01-30T17:28:52.741902Z"
    }
   },
   "outputs": [
    {
     "name": "stdout",
     "output_type": "stream",
     "text": [
      "Available frameworks:\n",
      "Qiskit\n",
      "D-Wave Ocean\n"
     ]
    }
   ],
   "source": [
    "%run -i \"assignment_helper.py\"\n",
    "%matplotlib inline"
   ]
  },
  {
   "cell_type": "markdown",
   "metadata": {},
   "source": [
    "<span style=\"color:red\">**Note! I wrote in operator framework** </span>"
   ]
  },
  {
   "cell_type": "markdown",
   "metadata": {},
   "source": [
    "# Quantum approximate optimization algorithm\n",
    "\n",
    "QAOA is a shallow-circuit variational algorithm that is easy to understand if you already grasped quantum annealing. It is, in fact, just a particular type of a larger family of algorithms called variational quantum eigensolvers. Approximating the adiabatic pathway as QAOA does is just one option of how to find the eigenvalues of a system.\n",
    "\n",
    "Even then, QAOA has many moving elements. Let us import some handy packages and define some functions that we are going to use:"
   ]
  },
  {
   "cell_type": "code",
   "execution_count": 80,
   "metadata": {
    "ExecuteTime": {
     "end_time": "2019-01-30T17:28:54.708430Z",
     "start_time": "2019-01-30T17:28:54.700061Z"
    }
   },
   "outputs": [],
   "source": [
    "import itertools\n",
    "from functools import partial, reduce\n",
    "from scipy.optimize import minimize\n",
    "from qiskit.quantum_info.states import Statevector\n",
    "from qiskit.quantum_info.operators import Operator, Pauli\n",
    "np.set_printoptions(precision=3, suppress=True)\n",
    "\n",
    "# Functions useful if you're using Qiskit\n",
    "def pauli_x(qubit, coeff):\n",
    "    eye = np.eye((n_qubits))\n",
    "    return Operator([[coeff, Pauli(np.zeros(n_qubits), eye[qubit])]])\n",
    "\n",
    "def pauli_z(qubit, coeff):\n",
    "    eye = np.eye((n_qubits))\n",
    "    return Operator([[coeff, Pauli(eye[qubit], np.zeros(n_qubits))]])\n",
    "\n",
    "def product_pauli_z(q1, q2, coeff):\n",
    "    eye = np.eye((n_qubits))\n",
    "    return Operator([[coeff, Pauli(eye[q1], np.zeros(n_qubits)) * Pauli(eye[q2], np.zeros(n_qubits))]])"
   ]
  },
  {
   "cell_type": "markdown",
   "metadata": {},
   "source": [
    "**Exercise 1** (2 points). Define a mixing Hamiltonian on two qubits. Store it in an object called `Hm`. If you're doing the assignement in PyQuil, remember that the Hamiltonian should be a list of PauliTerms (and not a PauliSum) in order to be exponentiated easily."
   ]
  },
  {
   "cell_type": "code",
   "execution_count": 339,
   "metadata": {
    "ExecuteTime": {
     "end_time": "2019-01-30T17:28:56.353161Z",
     "start_time": "2019-01-30T17:28:56.349370Z"
    },
    "scrolled": true
   },
   "outputs": [
    {
     "data": {
      "text/plain": [
       "Operator([[-0.+0.j, -1.+0.j, -1.+0.j, -0.+0.j],\n",
       "          [-1.+0.j, -0.+0.j, -0.+0.j, -1.+0.j],\n",
       "          [-1.+0.j, -0.+0.j, -0.+0.j, -1.+0.j],\n",
       "          [-0.+0.j, -1.+0.j, -1.+0.j, -0.+0.j]],\n",
       "         input_dims=(2, 2), output_dims=(2, 2))"
      ]
     },
     "execution_count": 339,
     "metadata": {},
     "output_type": "execute_result"
    }
   ],
   "source": [
    "n_qubits = 2\n",
    "###\n",
    "### YOUR CODE HERE\n",
    "###\n",
    "Hm = Operator(Pauli([0, 0], [1, 0])) + Operator(Pauli([0, 0], [0, 1])) \n",
    "Hm = -1*Hm\n",
    "Hm"
   ]
  },
  {
   "cell_type": "code",
   "execution_count": 15,
   "metadata": {
    "ExecuteTime": {
     "end_time": "2019-01-30T17:28:57.312028Z",
     "start_time": "2019-01-30T17:28:57.305208Z"
    },
    "deletable": false,
    "editable": false,
    "nbgrader": {
     "grade": true,
     "grade_id": "exercise1",
     "locked": true,
     "points": "2",
     "solution": false
    },
    "run_control": {
     "frozen": true
    }
   },
   "outputs": [],
   "source": [
    "if isinstance(Hm, Operator):\n",
    "    Hm.data()\n",
    "    assert np.alltrue(Hm.data == np.array([[0., 1., 1., 0.],\n",
    "                                                       [1., 0., 0., 1.],\n",
    "                                                       [1., 0., 0., 1.],\n",
    "                                                       [0., 1., 1., 0.]]))\n",
    "elif isinstance(Hm, list):\n",
    "    assert len(Hm) == n_qubits\n",
    "    assert all([isinstance(Hm[i], PauliTerm) for i in range(n_qubits)])\n",
    "    assert all([Hm[i].compact_str() == '(1+0j)*X{}'.format(i) for i in range(n_qubits)])\n",
    "else:\n",
    "    raise ValueError(\"Unknown type for Hamiltonian!\")"
   ]
  },
  {
   "cell_type": "markdown",
   "metadata": {},
   "source": [
    "**Exercise 2** (2 points). Define the cost Hamiltonian $H_c = -\\sigma^Z_1\\sigma^Z_2-0.5\\sigma^Z_1$."
   ]
  },
  {
   "cell_type": "code",
   "execution_count": 340,
   "metadata": {
    "ExecuteTime": {
     "end_time": "2019-01-30T17:29:07.809767Z",
     "start_time": "2019-01-30T17:29:07.805940Z"
    }
   },
   "outputs": [],
   "source": [
    "###\n",
    "### YOUR CODE HERE\n",
    "###\n",
    "Hc = Operator(Pauli([1, 1], [0, 0])) + 0.5*Operator(Pauli([1, 0], [0, 0])) \n",
    "Hc = -1*Hc"
   ]
  },
  {
   "cell_type": "code",
   "execution_count": 341,
   "metadata": {},
   "outputs": [
    {
     "data": {
      "text/plain": [
       "array([[ 1.5,  0. ,  0. ,  0. ],\n",
       "       [ 0. , -0.5,  0. , -0. ],\n",
       "       [ 0. ,  0. , -1.5, -0. ],\n",
       "       [ 0. , -0. , -0. ,  0.5]])"
      ]
     },
     "execution_count": 341,
     "metadata": {},
     "output_type": "execute_result"
    }
   ],
   "source": [
    "# verify\n",
    "np.kron(np.array([[1, 0], [0, -1]]), np.array([[1.5, 0], [0,-0.5]]))"
   ]
  },
  {
   "cell_type": "code",
   "execution_count": 45,
   "metadata": {
    "ExecuteTime": {
     "end_time": "2019-01-30T17:29:08.286947Z",
     "start_time": "2019-01-30T17:29:08.280462Z"
    },
    "deletable": false,
    "editable": false,
    "nbgrader": {
     "grade": true,
     "grade_id": "exercise2",
     "locked": true,
     "points": "2",
     "solution": false
    },
    "run_control": {
     "frozen": true
    }
   },
   "outputs": [],
   "source": [
    "if isinstance(Hc, Operator):\n",
    "    Hc.data\n",
    "    assert np.alltrue(Hc.data == np.diag([-1.5, 1.5, 0.5, -0.5]))\n",
    "    \n",
    "elif isinstance(Hc, list):\n",
    "    assert len(Hc) == 2\n",
    "    assert all([isinstance(Hc[i], PauliTerm) for i in range(n_qubits)])\n",
    "    assert Hc[0].compact_str() == '(-1+0j)*Z0Z1'\n",
    "    assert Hc[1].compact_str() == '(-0.5+0j)*Z0'\n",
    "else:\n",
    "    raise ValueError(\"Unknown type for Hamiltonian!\")    "
   ]
  },
  {
   "cell_type": "markdown",
   "metadata": {},
   "source": [
    "**Exercise 3** (2 points). We know that the ground state of the mixer Hamiltonian is the uniform superposition. Create a circuit `circuit_init` that will contain this initial state."
   ]
  },
  {
   "cell_type": "code",
   "execution_count": 342,
   "metadata": {},
   "outputs": [
    {
     "data": {
      "text/plain": [
       "(array([ 2.+0.j, -2.-0.j, -0.+0.j,  0.-0.j]),\n",
       " array([[ 0.5  +0.j,  0.5  +0.j,  0.   -0.j, -0.   +0.j],\n",
       "        [-0.5  -0.j,  0.5  -0.j, -0.707-0.j, -0.707+0.j],\n",
       "        [-0.5  -0.j,  0.5  -0.j,  0.707+0.j,  0.707+0.j],\n",
       "        [ 0.5  +0.j,  0.5  -0.j, -0.   +0.j,  0.   -0.j]]))"
      ]
     },
     "execution_count": 342,
     "metadata": {},
     "output_type": "execute_result"
    }
   ],
   "source": [
    "np.linalg.eig(Hm.data)"
   ]
  },
  {
   "cell_type": "code",
   "execution_count": 343,
   "metadata": {
    "ExecuteTime": {
     "end_time": "2019-01-30T17:29:20.701673Z",
     "start_time": "2019-01-30T17:29:20.698795Z"
    }
   },
   "outputs": [],
   "source": [
    "###\n",
    "### YOUR CODE HERE\n",
    "###\n",
    "circuit_init = Statevector([0.5, 0.5, 0.5, 0.5])"
   ]
  },
  {
   "cell_type": "markdown",
   "metadata": {},
   "source": [
    "We set $p=2$ and initialize the $\\beta_i$ and $\\gamma_i$ parameters. "
   ]
  },
  {
   "cell_type": "code",
   "execution_count": 344,
   "metadata": {
    "ExecuteTime": {
     "end_time": "2019-01-30T17:29:33.696855Z",
     "start_time": "2019-01-30T17:29:33.693611Z"
    }
   },
   "outputs": [],
   "source": [
    "p = 4\n",
    "beta = np.random.uniform(0, np.pi*2, p)\n",
    "gamma = np.random.uniform(0, np.pi*2, p)"
   ]
  },
  {
   "cell_type": "markdown",
   "metadata": {},
   "source": [
    "The next step is to create the complete variational circuit, made of $e^{-\\beta H}$ and $e^{-\\gamma H}$. We will use a function `create_circuit` that takes `gamma` and `beta` as argument, and the state preparation circuit."
   ]
  },
  {
   "cell_type": "code",
   "execution_count": 346,
   "metadata": {
    "ExecuteTime": {
     "end_time": "2019-01-30T17:29:34.599407Z",
     "start_time": "2019-01-30T17:29:34.587974Z"
    }
   },
   "outputs": [],
   "source": [
    "from qiskit.aqua.operators.evolutions import *\n",
    "def evolve(hamiltonian, time):\n",
    "    return MatrixOp(hamiltonian, time)\n",
    "\n",
    "def create_circuit(beta, gamma):\n",
    "    U = Operator(Suzuki().convert(SummedOp([evolve(Hc, beta[i]) + evolve(Hm, gamma[i]) for i in range(p)])).to_matrix())\n",
    "    return U"
   ]
  },
  {
   "cell_type": "code",
   "execution_count": 347,
   "metadata": {},
   "outputs": [],
   "source": [
    "beta_gamma= np.concatenate([beta, gamma])\n",
    "n = len(beta_gamma)//2\n",
    "circuit = create_circuit(beta_gamma[:n], beta_gamma[n:])"
   ]
  },
  {
   "cell_type": "markdown",
   "metadata": {},
   "source": [
    "Finally, we need a function `evaluate_circuit` to compute the average energy of the circuit, i.e. compute $\\langle\\psi(\\beta, \\gamma)|H_c|\\psi(\\beta, \\gamma)\\rangle$ where $|\\psi(\\beta, \\gamma)\\rangle$ is the circuit built above. This function should take a unique argument `beta_gamma` (concatenation of the lists `beta` and `gamma`) in order to be used directly by optimizers, and return a real value corresponding to the expectancy of $H_c$."
   ]
  },
  {
   "cell_type": "code",
   "execution_count": 348,
   "metadata": {
    "ExecuteTime": {
     "end_time": "2019-01-30T17:29:35.802611Z",
     "start_time": "2019-01-30T17:29:35.797170Z"
    }
   },
   "outputs": [],
   "source": [
    "def evaluate_circuit(beta_gamma):\n",
    "    n = len(beta_gamma)//2\n",
    "    circuit = create_circuit(beta_gamma[:n], beta_gamma[n:])\n",
    "    final_state = circuit_init.evolve(circuit).data\n",
    "    return np.real(final_state.T.conj() @ Hc.data @ final_state)\n",
    "\n",
    "    if isinstance(circuit, pyquil.quil.Program):\n",
    "        qvm = pyquil.api.QVMConnection(endpoint=fc.sync_endpoint, compiler_endpoint=fc.compiler_endpoint)\n",
    "        return np.real(qvm.pauli_expectation(circuit, sum(Hc)))"
   ]
  },
  {
   "cell_type": "markdown",
   "metadata": {},
   "source": [
    "**Exercise 4** (2 points). The $p$ parameter defines the number of steps in the Trotterization. The real question from here is how we optimize the $\\beta_i$ and $\\gamma_i$ parameters. If we can find a method that makes fewer evaluations to arrive at the same result, that is a win, since we have to execute fewer loops on the quantum computer. Try various methods for minimizing the evaluate function. We used L-BFGS-B before. Try another one and write the outcome in an object called `result`. You will see that the number of function evaluation (`nfev`) differs and so does the function value."
   ]
  },
  {
   "cell_type": "code",
   "execution_count": 350,
   "metadata": {
    "ExecuteTime": {
     "end_time": "2019-01-30T17:29:39.475428Z",
     "start_time": "2019-01-30T17:29:38.504544Z"
    }
   },
   "outputs": [],
   "source": [
    "###\n",
    "### YOUR CODE HERE\n",
    "###\n",
    "result = minimize(evaluate_circuit, np.concatenate([beta, gamma]), method='BFGS')"
   ]
  },
  {
   "cell_type": "code",
   "execution_count": 351,
   "metadata": {
    "ExecuteTime": {
     "end_time": "2019-01-30T17:30:02.493851Z",
     "start_time": "2019-01-30T17:30:02.199109Z"
    },
    "deletable": false,
    "editable": false,
    "nbgrader": {
     "grade": true,
     "grade_id": "exercise4",
     "locked": true,
     "points": "2",
     "solution": false
    }
   },
   "outputs": [
    {
     "name": "stdout",
     "output_type": "stream",
     "text": [
      "Function evaluations: 360 versus 290\n",
      "Function values: -1.500000 versus -1.500000\n"
     ]
    }
   ],
   "source": [
    "result2 = minimize(evaluate_circuit, np.concatenate([beta, gamma]), method='L-BFGS-B')\n",
    "import scipy\n",
    "assert isinstance(result, scipy.optimize.optimize.OptimizeResult)\n",
    "assert result2.nfev != result.nfev\n",
    "print(\"Function evaluations: %d versus %d\" % (result2.nfev, result.nfev))\n",
    "print(\"Function values: %f versus %f\" % (result2.fun, result.fun))"
   ]
  },
  {
   "cell_type": "markdown",
   "metadata": {},
   "source": [
    "If the circuit had an infinite capacity, you should obtain a minimum of $-1.5$ (minimum value of the Hamiltonian we defined above). However, with $p=2$, you might have a bigger value. Try increasing $p$ to see the effect on the minimum reached by the circuit."
   ]
  },
  {
   "cell_type": "markdown",
   "metadata": {},
   "source": [
    "Variational circuits are actually very similar to neural networks: we do some kind of gradient descent over a parameter space. Automatic differentiation of neural networks has been a major step in scaling them up and we can expect that similar techniques in variational quantum circuit can be useful. This is exactly what projects like [QuantumFlow](https://github.com/rigetti/quantumflow) and [PennyLane](https://pennylane.ai/) try."
   ]
  }
 ],
 "metadata": {
  "kernelspec": {
   "display_name": "Python 3",
   "language": "python",
   "name": "python3"
  },
  "language_info": {
   "codemirror_mode": {
    "name": "ipython",
    "version": 3
   },
   "file_extension": ".py",
   "mimetype": "text/x-python",
   "name": "python",
   "nbconvert_exporter": "python",
   "pygments_lexer": "ipython3",
   "version": "3.7.5"
  },
  "toc": {
   "base_numbering": 1,
   "nav_menu": {},
   "number_sections": true,
   "sideBar": true,
   "skip_h1_title": false,
   "title_cell": "Table of Contents",
   "title_sidebar": "Contents",
   "toc_cell": false,
   "toc_position": {},
   "toc_section_display": true,
   "toc_window_display": false
  },
  "varInspector": {
   "cols": {
    "lenName": 16,
    "lenType": 16,
    "lenVar": 40
   },
   "kernels_config": {
    "python": {
     "delete_cmd_postfix": "",
     "delete_cmd_prefix": "del ",
     "library": "var_list.py",
     "varRefreshCmd": "print(var_dic_list())"
    },
    "r": {
     "delete_cmd_postfix": ") ",
     "delete_cmd_prefix": "rm(",
     "library": "var_list.r",
     "varRefreshCmd": "cat(var_dic_list()) "
    }
   },
   "types_to_exclude": [
    "module",
    "function",
    "builtin_function_or_method",
    "instance",
    "_Feature"
   ],
   "window_display": false
  }
 },
 "nbformat": 4,
 "nbformat_minor": 2
}
