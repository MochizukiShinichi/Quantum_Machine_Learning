{
 "cells": [
  {
   "cell_type": "markdown",
   "metadata": {},
   "source": [
    "Before you begin, execute this cell to import numpy and packages from the D-Wave Ocean suite, and all necessary functions for the gate-model framework you are going to use, whether that is the Forest SDK or Qiskit. In the case of Forest SDK, it also starts the qvm and quilc servers."
   ]
  },
  {
   "cell_type": "code",
   "execution_count": 1,
   "metadata": {
    "ExecuteTime": {
     "end_time": "2019-01-29T22:01:50.475321Z",
     "start_time": "2019-01-29T22:01:49.695728Z"
    }
   },
   "outputs": [
    {
     "name": "stdout",
     "output_type": "stream",
     "text": [
      "Available frameworks:\n",
      "Qiskit\n",
      "D-Wave Ocean\n"
     ]
    }
   ],
   "source": [
    "%run -i \"assignment_helper.py\"\n",
    "%matplotlib inline"
   ]
  },
  {
   "cell_type": "markdown",
   "metadata": {
    "collapsed": true
   },
   "source": [
    "# Quantum annealing\n",
    "\n",
    "**Exercise 1** (2 points). The thermal state $\\rho=\\frac{1}{Z} \\sum_n e^{-E_n/T} |n\\rangle \\langle n|$ is a Boltzmann distribution over the energy eigenvalues $E_n$ of some Hamiltonian $H$. An open quantum system equilibrates with the environment to this state. Equilibration is hard to simulate classically and therefore this process could be exploited for calculations. Using dimod, create a random Ising model over 5 spins."
   ]
  },
  {
   "cell_type": "code",
   "execution_count": 43,
   "metadata": {
    "ExecuteTime": {
     "end_time": "2019-01-29T21:52:31.512988Z",
     "start_time": "2019-01-29T21:52:31.507436Z"
    }
   },
   "outputs": [],
   "source": [
    "###\n",
    "### YOUR CODE HERE\n",
    "###\n",
    "np.random.seed(12)\n",
    "n_spins = 5\n",
    "h = {v: np.random.choice(0.1*np.arange(-5, 6), 1)[0] for v in range(n_spins)}\n",
    "J = {}\n",
    "for u, v in itertools.combinations(h, 2):\n",
    "    if np.random.random() < .25:\n",
    "        J[(u, v)] = np.random.choice(0.1*np.arange(-5, 6), 1)[0]\n",
    "model = dimod.BinaryQuadraticModel(h, J, 0.0, dimod.SPIN)\n",
    "sampler = dimod.SimulatedAnnealingSampler()"
   ]
  },
  {
   "cell_type": "code",
   "execution_count": 44,
   "metadata": {},
   "outputs": [
    {
     "data": {
      "text/plain": [
       "({(0, 1): 0.1, (0, 2): 0.0, (0, 3): -0.30000000000000004, (3, 4): -0.4},\n",
       " {0: 0.1, 1: -0.4, 2: -0.30000000000000004, 3: -0.2, 4: -0.2})"
      ]
     },
     "execution_count": 44,
     "metadata": {},
     "output_type": "execute_result"
    }
   ],
   "source": [
    "J, h"
   ]
  },
  {
   "cell_type": "code",
   "execution_count": 35,
   "metadata": {
    "ExecuteTime": {
     "end_time": "2019-01-29T21:52:32.433092Z",
     "start_time": "2019-01-29T21:52:32.429882Z"
    },
    "deletable": false,
    "editable": false,
    "nbgrader": {
     "grade": true,
     "grade_id": "exercise1",
     "locked": true,
     "points": "2",
     "solution": false
    }
   },
   "outputs": [],
   "source": [
    "assert isinstance(model, dimod.binary_quadratic_model.BinaryQuadraticModel), \"Wrong model type\"\n",
    "assert model.vartype == dimod.SPIN, \"Wrong variables: binary model instead of spin system\"\n",
    "assert len(model.variables) == 5, \"Wrong number of spins\""
   ]
  },
  {
   "cell_type": "markdown",
   "metadata": {},
   "source": [
    "**Exercise 2** (2 points). Sample the model at near-zero temperature (0.01) and at a high temperature (100). Write the list of energies in two arrays, `energies_low` and `energies_high`. Note that $\\beta$ denotes the inverse temperature $1/T$."
   ]
  },
  {
   "cell_type": "code",
   "execution_count": 85,
   "metadata": {
    "ExecuteTime": {
     "end_time": "2019-01-29T21:52:46.422181Z",
     "start_time": "2019-01-29T21:52:45.192862Z"
    }
   },
   "outputs": [],
   "source": [
    "n_samples = 100\n",
    "sampler = dimod.SimulatedAnnealingSampler()\n",
    "###\n",
    "### YOUR CODE HERE\n",
    "###\n",
    "sample_low = sampler.sample(model, [1/0.01, 1/0.01], num_reads=n_samples)\n",
    "energies_low = [sp.energy for sp in sample_low.data()]\n",
    "sample_high = sampler.sample(model, [1/100., 1/100.], num_reads=n_samples)\n",
    "energies_high = [sp.energy for sp in sample_high.data()]"
   ]
  },
  {
   "cell_type": "code",
   "execution_count": 86,
   "metadata": {},
   "outputs": [
    {
     "data": {
      "text/plain": [
       "Counter({-4.367151236081796: 48, -4.067830860663586: 52})"
      ]
     },
     "execution_count": 86,
     "metadata": {},
     "output_type": "execute_result"
    }
   ],
   "source": [
    "from collections import Counter\n",
    "cnt = Counter(energies_low)\n",
    "cnt"
   ]
  },
  {
   "cell_type": "raw",
   "metadata": {},
   "source": [
    "AssertionError: At near-zero temperature, we should only see one energy value, the ground state energy\n",
    "\n",
    "there will always be two states -- why?"
   ]
  },
  {
   "cell_type": "code",
   "execution_count": 73,
   "metadata": {
    "ExecuteTime": {
     "end_time": "2019-01-29T21:52:46.455503Z",
     "start_time": "2019-01-29T21:52:46.452117Z"
    },
    "nbgrader": {
     "grade": true,
     "grade_id": "exercise2",
     "locked": true,
     "points": "2",
     "solution": false
    }
   },
   "outputs": [
    {
     "ename": "AssertionError",
     "evalue": "At near-zero temperature, we should only see one energy value, the ground state energy",
     "output_type": "error",
     "traceback": [
      "\u001b[0;31m---------------------------------------------------------------------------\u001b[0m",
      "\u001b[0;31mAssertionError\u001b[0m                            Traceback (most recent call last)",
      "\u001b[0;32m~/codes/qml-mooc/coding_assignments/assignment_helper.py\u001b[0m in \u001b[0;36m<module>\u001b[0;34m\u001b[0m\n\u001b[0;32m----> 1\u001b[0;31m \u001b[0;32massert\u001b[0m \u001b[0mnp\u001b[0m\u001b[0;34m.\u001b[0m\u001b[0misclose\u001b[0m\u001b[0;34m(\u001b[0m\u001b[0mmin\u001b[0m\u001b[0;34m(\u001b[0m\u001b[0menergies_low\u001b[0m\u001b[0;34m)\u001b[0m\u001b[0;34m,\u001b[0m \u001b[0mmax\u001b[0m\u001b[0;34m(\u001b[0m\u001b[0menergies_low\u001b[0m\u001b[0;34m)\u001b[0m\u001b[0;34m)\u001b[0m\u001b[0;34m,\u001b[0m \u001b[0;34m\"At near-zero temperature, we should only see one energy value, the ground state energy\"\u001b[0m\u001b[0;34m\u001b[0m\u001b[0;34m\u001b[0m\u001b[0m\n\u001b[0m",
      "\u001b[0;31mAssertionError\u001b[0m: At near-zero temperature, we should only see one energy value, the ground state energy"
     ]
    }
   ],
   "source": [
    "assert np.isclose(min(energies_low), max(energies_low)), \"At near-zero temperature, we should only see one energy value, the ground state energy\""
   ]
  },
  {
   "cell_type": "code",
   "execution_count": 71,
   "metadata": {
    "ExecuteTime": {
     "end_time": "2019-01-29T21:52:46.455503Z",
     "start_time": "2019-01-29T21:52:46.452117Z"
    },
    "deletable": false,
    "editable": false,
    "nbgrader": {
     "grade": true,
     "grade_id": "exercise2",
     "locked": true,
     "points": "2",
     "solution": false
    },
    "run_control": {
     "frozen": true
    }
   },
   "outputs": [],
   "source": [
    "assert np.isclose(min(energies_low), min(energies_high)), \"The ground state should appear at both temperatures\""
   ]
  },
  {
   "cell_type": "markdown",
   "metadata": {},
   "source": [
    "Just as we saw in the introduction, the distribution flattens out at a high temperature ($T_3$). On the other hand, the energy is peaked for a low temperature, and we do not even have samples for high-energy states."
   ]
  },
  {
   "cell_type": "markdown",
   "metadata": {},
   "source": [
    "# Quantum Approximate Thermalization\n",
    "\n",
    "**Exercise 3** (3 points). In QAOA, we approximated the ground state of a target Hamiltonian, starting from the ground state of a mixer Hamiltonian. We can actually perform the exact same optimization for approximating the thermal state of a target system, starting from the thermal state of some system.\n",
    "\n",
    "We exploit that if we trace out a subsystem of an entangled system, we end up with a mixed state.\n",
    "\n",
    "It can be shown that $| \\psi \\rangle =1/\\sqrt{2 \\cosh \\frac{1}{2T}} \\sum_{z \\in {-1,1}} e^{- z/T} |z \\rangle_{\\mathcal{H_1}} \\otimes | z \\rangle_{\\mathcal{H_2}}$ purifies $\\rho=\\frac{1}{Z}e^{- H_m/T}$ [[1](#1)], where $H_m$ is the mixing Hamiltonian in QAOA. This state can be built with a circuit composed uniquely of RX gates and CNOT gates. Since the overall structure of the algorithm resembles QAOA closely, it is less important to go through the details. Most of it is more about forcing the quantum computing packages to do what we want than about the problem itself. The biggest difference to QAOA is the preparation of the initial state. Prepare this state at inverse temperature $\\beta=0$ in your preferred framework. Note that $\\beta=1/T$, so this corresponds to the infinite temperature. The state preparation should be in an object called `circuit`."
   ]
  },
  {
   "cell_type": "code",
   "execution_count": 98,
   "metadata": {
    "ExecuteTime": {
     "end_time": "2019-01-29T22:01:59.135749Z",
     "start_time": "2019-01-29T22:01:59.125142Z"
    }
   },
   "outputs": [],
   "source": [
    "n_qubits = 1\n",
    "β = 0\n",
    "###\n",
    "### YOUR CODE HERE\n",
    "###\n",
    "\n",
    "def prepare_init_circuit(beta):\n",
    "    qr = QuantumRegister(n_qubits*2)\n",
    "    circuit = QuantumCircuit(qr)\n",
    "    α = 2 * np.arctan(np.exp(- beta))\n",
    "    for i in range(n_qubits):\n",
    "        circuit.rx(α, qr[n_qubits+i])\n",
    "        circuit.cx(qr[n_qubits+i], qr[i])\n",
    "    return circuit"
   ]
  },
  {
   "cell_type": "code",
   "execution_count": 99,
   "metadata": {},
   "outputs": [],
   "source": [
    "circuit = prepare_init_circuit(0)"
   ]
  },
  {
   "cell_type": "code",
   "execution_count": 100,
   "metadata": {},
   "outputs": [
    {
     "data": {
      "text/html": [
       "<pre style=\"word-wrap: normal;white-space: pre;background: #fff0;line-height: 1.1;font-family: &quot;Courier New&quot;,Courier,monospace\">                  ┌───┐\n",
       "q2_0: ────────────┤ X ├\n",
       "      ┌──────────┐└─┬─┘\n",
       "q2_1: ┤ RX(pi/2) ├──■──\n",
       "      └──────────┘     </pre>"
      ],
      "text/plain": [
       "                  ┌───┐\n",
       "q2_0: ────────────┤ X ├\n",
       "      ┌──────────┐└─┬─┘\n",
       "q2_1: ┤ RX(pi/2) ├──■──\n",
       "      └──────────┘     "
      ]
     },
     "execution_count": 100,
     "metadata": {},
     "output_type": "execute_result"
    }
   ],
   "source": [
    "circuit.draw()"
   ]
  },
  {
   "cell_type": "code",
   "execution_count": 101,
   "metadata": {
    "ExecuteTime": {
     "end_time": "2019-01-29T22:02:01.252611Z",
     "start_time": "2019-01-29T22:02:00.773007Z"
    },
    "deletable": false,
    "editable": false,
    "nbgrader": {
     "grade": true,
     "grade_id": "exercise3",
     "locked": true,
     "points": "3",
     "solution": false
    }
   },
   "outputs": [],
   "source": [
    "amplitudes = get_amplitudes(circuit)\n",
    "assert np.allclose(amplitudes, np.array([1/np.sqrt(2), 0, 0, -1j/np.sqrt(2)]))"
   ]
  },
  {
   "cell_type": "markdown",
   "metadata": {},
   "source": [
    "**Exercise 4** (1 points).  Create the density matrix for this quantum state in a variable called `dm`."
   ]
  },
  {
   "cell_type": "code",
   "execution_count": 121,
   "metadata": {
    "ExecuteTime": {
     "end_time": "2019-01-29T22:02:12.122651Z",
     "start_time": "2019-01-29T22:02:12.104843Z"
    }
   },
   "outputs": [],
   "source": [
    "###\n",
    "### YOUR CODE HERE\n",
    "###\n",
    "from qiskit.aqua.operators.state_fns import CircuitStateFn\n",
    "\n",
    "dm = CircuitStateFn(circuit).to_density_matrix()"
   ]
  },
  {
   "cell_type": "code",
   "execution_count": 123,
   "metadata": {},
   "outputs": [
    {
     "data": {
      "text/plain": [
       "array([[0.5+0.j , 0. +0.j , 0. +0.j , 0. +0.5j],\n",
       "       [0. +0.j , 0. +0.j , 0. +0.j , 0. +0.j ],\n",
       "       [0. +0.j , 0. +0.j , 0. +0.j , 0. +0.j ],\n",
       "       [0. -0.5j, 0. +0.j , 0. +0.j , 0.5+0.j ]])"
      ]
     },
     "execution_count": 123,
     "metadata": {},
     "output_type": "execute_result"
    }
   ],
   "source": [
    "dm"
   ]
  },
  {
   "cell_type": "code",
   "execution_count": 137,
   "metadata": {},
   "outputs": [
    {
     "data": {
      "text/plain": [
       "DensityMatrix([[0.5+0.j, 0. +0.j],\n",
       "               [0. +0.j, 0.5+0.j]],\n",
       "              dims=(2,))"
      ]
     },
     "execution_count": 137,
     "metadata": {},
     "output_type": "execute_result"
    }
   ],
   "source": [
    "from qiskit.quantum_info.states import partial_trace\n",
    "partial_trace(dm, [1])"
   ]
  },
  {
   "cell_type": "code",
   "execution_count": 122,
   "metadata": {
    "ExecuteTime": {
     "end_time": "2019-01-29T22:02:12.656345Z",
     "start_time": "2019-01-29T22:02:12.650757Z"
    },
    "deletable": false,
    "editable": false,
    "nbgrader": {
     "grade": true,
     "grade_id": "exercise4",
     "locked": true,
     "points": "1",
     "solution": false
    }
   },
   "outputs": [],
   "source": [
    "###\n",
    "### AUTOGRADER TEST - DO NOT REMOVE\n",
    "###\n"
   ]
  },
  {
   "cell_type": "markdown",
   "metadata": {},
   "source": [
    "If you look at the structure of this density matrix and trace out the ancilla system, you get $\\begin{bmatrix}0.5&0\\\\0&0.5\\end{bmatrix}$. That is the maximally mixed state, which corresponds to the thermal state at infinite temperature, which is exactly what we wanted."
   ]
  }
 ],
 "metadata": {
  "kernelspec": {
   "display_name": "Python 3",
   "language": "python",
   "name": "python3"
  },
  "language_info": {
   "codemirror_mode": {
    "name": "ipython",
    "version": 3
   },
   "file_extension": ".py",
   "mimetype": "text/x-python",
   "name": "python",
   "nbconvert_exporter": "python",
   "pygments_lexer": "ipython3",
   "version": "3.7.5"
  },
  "toc": {
   "base_numbering": 1,
   "nav_menu": {},
   "number_sections": true,
   "sideBar": true,
   "skip_h1_title": false,
   "title_cell": "Table of Contents",
   "title_sidebar": "Contents",
   "toc_cell": false,
   "toc_position": {},
   "toc_section_display": true,
   "toc_window_display": false
  },
  "varInspector": {
   "cols": {
    "lenName": 16,
    "lenType": 16,
    "lenVar": 40
   },
   "kernels_config": {
    "python": {
     "delete_cmd_postfix": "",
     "delete_cmd_prefix": "del ",
     "library": "var_list.py",
     "varRefreshCmd": "print(var_dic_list())"
    },
    "r": {
     "delete_cmd_postfix": ") ",
     "delete_cmd_prefix": "rm(",
     "library": "var_list.r",
     "varRefreshCmd": "cat(var_dic_list()) "
    }
   },
   "types_to_exclude": [
    "module",
    "function",
    "builtin_function_or_method",
    "instance",
    "_Feature"
   ],
   "window_display": false
  }
 },
 "nbformat": 4,
 "nbformat_minor": 2
}
